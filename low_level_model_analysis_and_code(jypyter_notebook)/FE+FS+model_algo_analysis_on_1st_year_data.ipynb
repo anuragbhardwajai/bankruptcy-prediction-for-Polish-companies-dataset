{
 "cells": [
  {
   "cell_type": "code",
   "execution_count": 4,
   "metadata": {},
   "outputs": [
    {
     "ename": "ModuleNotFoundError",
     "evalue": "No module named 'feature_engine.discretisers'",
     "output_type": "error",
     "traceback": [
      "\u001b[1;31m---------------------------------------------------------------------------\u001b[0m",
      "\u001b[1;31mModuleNotFoundError\u001b[0m                       Traceback (most recent call last)",
      "\u001b[1;32m<ipython-input-4-fce5d94563be>\u001b[0m in \u001b[0;36m<module>\u001b[1;34m\u001b[0m\n\u001b[0;32m     10\u001b[0m \u001b[1;32mimport\u001b[0m \u001b[0mscipy\u001b[0m\u001b[1;33m.\u001b[0m\u001b[0mstats\u001b[0m \u001b[1;32mas\u001b[0m \u001b[0mstats\u001b[0m\u001b[1;33m\u001b[0m\u001b[1;33m\u001b[0m\u001b[0m\n\u001b[0;32m     11\u001b[0m \u001b[1;31m# from feature_engine import variable_transformers as vt\u001b[0m\u001b[1;33m\u001b[0m\u001b[1;33m\u001b[0m\u001b[1;33m\u001b[0m\u001b[0m\n\u001b[1;32m---> 12\u001b[1;33m \u001b[1;32mfrom\u001b[0m \u001b[0mfeature_engine\u001b[0m\u001b[1;33m.\u001b[0m\u001b[0mdiscretisers\u001b[0m \u001b[1;32mimport\u001b[0m \u001b[0mEqualWidthDiscretiser\u001b[0m\u001b[1;33m\u001b[0m\u001b[1;33m\u001b[0m\u001b[0m\n\u001b[0m\u001b[0;32m     13\u001b[0m \u001b[1;32mfrom\u001b[0m \u001b[0mfeature_engine\u001b[0m\u001b[1;33m.\u001b[0m\u001b[0mdiscretisers\u001b[0m \u001b[1;32mimport\u001b[0m \u001b[0mDecisionTreeDiscretiser\u001b[0m\u001b[1;33m\u001b[0m\u001b[1;33m\u001b[0m\u001b[0m\n\u001b[0;32m     14\u001b[0m \u001b[1;32mfrom\u001b[0m \u001b[0msklearn\u001b[0m\u001b[1;33m.\u001b[0m\u001b[0mensemble\u001b[0m \u001b[1;32mimport\u001b[0m \u001b[0mRandomForestClassifier\u001b[0m\u001b[1;33m\u001b[0m\u001b[1;33m\u001b[0m\u001b[0m\n",
      "\u001b[1;31mModuleNotFoundError\u001b[0m: No module named 'feature_engine.discretisers'"
     ]
    }
   ],
   "source": [
    "import pandas as pd \n",
    "import numpy as np\n",
    "\n",
    "# for plotting\n",
    "import matplotlib.pyplot as plt\n",
    "import scipy.stats as stats\n",
    "from sklearn.model_selection import train_test_split\n",
    "\n",
    "# from feature_engine import missing_data_imputers as mdi\n",
    "import scipy.stats as stats\n",
    "# from feature_engine import variable_transformers as vt\n",
    "from feature_engine.discretisers import EqualWidthDiscretiser\n",
    "from feature_engine.discretisers import DecisionTreeDiscretiser\n",
    "from sklearn.ensemble import RandomForestClassifier\n",
    "from sklearn.metrics import roc_auc_score\n",
    "from sklearn.linear_model import LogisticRegression\n",
    "\n",
    "# the scaler - for standardisation\n",
    "from sklearn.preprocessing import StandardScaler\n",
    "from sklearn.feature_selection import VarianceThreshold\n",
    "from sklearn.tree import DecisionTreeClassifier\n",
    "from sklearn.feature_selection import SelectFromModel\n",
    "\n",
    "# Data visualisation\n",
    "import matplotlib.pyplot as plt\n",
    "import seaborn as sns"
   ]
  },
  {
   "cell_type": "code",
   "execution_count": null,
   "metadata": {},
   "outputs": [],
   "source": []
  },
  {
   "cell_type": "code",
   "execution_count": null,
   "metadata": {},
   "outputs": [],
   "source": [
    "# Classification algorithms\n",
    "from sklearn.linear_model import LogisticRegression\n",
    "from sklearn.neighbors import KNeighborsClassifier\n",
    "from sklearn.naive_bayes import GaussianNB\n",
    "from sklearn.svm import SVC\n",
    "from sklearn.gaussian_process import GaussianProcessClassifier\n",
    "from sklearn.gaussian_process.kernels import RBF\n",
    "from sklearn.tree import DecisionTreeClassifier\n",
    "from sklearn.ensemble import RandomForestClassifier, AdaBoostClassifier, GradientBoostingClassifier, VotingClassifier\n",
    "from sklearn.discriminant_analysis import LinearDiscriminantAnalysis , QuadraticDiscriminantAnalysis\n",
    "from sklearn.neural_network import MLPClassifier\n",
    "import lightgbm as lgb#  for this i have to install package  \"  !pip install lightgbm \"\n",
    "import xgboost as xgb\n",
    "\n",
    "# Data preprocessing :\n",
    "from sklearn.preprocessing import MinMaxScaler, StandardScaler, Normalizer, scale, LabelEncoder, OneHotEncoder\n",
    "\n",
    "# Modeling helper functions\n",
    "from sklearn.model_selection import train_test_split\n",
    "from sklearn.model_selection import GridSearchCV , KFold , cross_val_score\n",
    "from sklearn.metrics import accuracy_score,confusion_matrix, classification_report, precision_score,recall_score,f1_score"
   ]
  },
  {
   "cell_type": "code",
   "execution_count": null,
   "metadata": {},
   "outputs": [],
   "source": []
  },
  {
   "cell_type": "code",
   "execution_count": null,
   "metadata": {},
   "outputs": [],
   "source": [
    "from scipy.io import arff\n",
    "\n",
    "year_1 = arff.loadarff(\"1year.arff\")\n",
    "year_1 = pd.DataFrame(year_1[0])"
   ]
  },
  {
   "cell_type": "code",
   "execution_count": null,
   "metadata": {},
   "outputs": [],
   "source": [
    "# year_1=pd.read_csv(r\"C:\\Users\\sak\\Documents\\current_hackathon\\bank_ruptcy\\Bankruptcy dataset\\1year.csv\")"
   ]
  },
  {
   "cell_type": "code",
   "execution_count": null,
   "metadata": {},
   "outputs": [],
   "source": [
    "k1=year_1.columns.tolist()"
   ]
  },
  {
   "cell_type": "code",
   "execution_count": null,
   "metadata": {},
   "outputs": [],
   "source": [
    "#replacing each ? to NAN\n",
    "for i in k1:\n",
    "    year_1[i] = year_1[i].replace('?' , np.nan)"
   ]
  },
  {
   "cell_type": "code",
   "execution_count": null,
   "metadata": {},
   "outputs": [],
   "source": [
    "#converting object data into numericals(float64)\n",
    "year_1=year_1.apply(lambda col:pd.to_numeric(col,errors='coerce'))"
   ]
  },
  {
   "cell_type": "code",
   "execution_count": null,
   "metadata": {},
   "outputs": [],
   "source": [
    "# Let's divide into train and test set\n",
    "\n",
    "X_train, X_test, y_train, y_test = train_test_split(\n",
    "    year_1.drop(labels='class', axis=1),  # predictors\n",
    "    year_1['class'],  # target\n",
    "    test_size=0.3,\n",
    "    random_state=0)\n",
    "\n",
    "X_train.shape, X_test.shape"
   ]
  },
  {
   "cell_type": "code",
   "execution_count": null,
   "metadata": {},
   "outputs": [],
   "source": [
    "# replacing null with mean imputer \n",
    "mean_imputer= mdi.MeanMedianImputer(imputation_method='mean', variables = year_1.drop(labels='class',axis=1).columns.tolist())"
   ]
  },
  {
   "cell_type": "code",
   "execution_count": null,
   "metadata": {},
   "outputs": [],
   "source": [
    "mean_imputer.fit(X_train)"
   ]
  },
  {
   "cell_type": "code",
   "execution_count": null,
   "metadata": {},
   "outputs": [],
   "source": [
    "# let's transform the data with the pipeline\n",
    "X_train_imp= mean_imputer.transform(X_train)\n",
    "X_test_imp= mean_imputer.transform(X_test)"
   ]
  },
  {
   "cell_type": "code",
   "execution_count": null,
   "metadata": {},
   "outputs": [],
   "source": [
    "X_train_no_miss=X_train_imp.copy()\n",
    "X_test_no_miss=X_test_imp.copy()\n",
    "y_train_no_miss=y_train.copy()\n",
    "y_test_no_miss=y_test.copy()"
   ]
  },
  {
   "cell_type": "code",
   "execution_count": null,
   "metadata": {},
   "outputs": [],
   "source": [
    "from sklearn.feature_selection import VarianceThreshold\n",
    "from sklearn.tree import DecisionTreeClassifier\n",
    "from sklearn.feature_selection import SelectFromModel"
   ]
  },
  {
   "cell_type": "code",
   "execution_count": null,
   "metadata": {},
   "outputs": [],
   "source": [
    "X_train=X_train_no_miss.copy()\n",
    "X_test=X_test_no_miss.copy()\n",
    "y_train=y_train_no_miss.copy()\n",
    "y_test=y_test_no_miss.copy()"
   ]
  },
  {
   "cell_type": "code",
   "execution_count": null,
   "metadata": {},
   "outputs": [],
   "source": [
    "# I keep a copy of the dataset with all the variables\n",
    "# to measure the performance of machine learning models\n",
    "# at the end of the notebook\n",
    "X_train_original = X_train.copy()\n",
    "X_test_original = X_test.copy()"
   ]
  },
  {
   "cell_type": "markdown",
   "metadata": {},
   "source": [
    "### Remove constant features"
   ]
  },
  {
   "cell_type": "code",
   "execution_count": null,
   "metadata": {},
   "outputs": [],
   "source": [
    "#before removing constatnt features\n",
    "X_train.shape,X_test.shape"
   ]
  },
  {
   "cell_type": "code",
   "execution_count": null,
   "metadata": {},
   "outputs": [],
   "source": [
    "# remove constant features\n",
    "constant_features = [\n",
    "    feat for feat in X_train.columns if X_train[feat].std() == 0\n",
    "]\n",
    " \n",
    "X_train.drop(labels=constant_features, axis=1, inplace=True)\n",
    "X_test.drop(labels=constant_features, axis=1, inplace=True)\n",
    " \n",
    "X_train.shape, X_test.shape"
   ]
  },
  {
   "cell_type": "markdown",
   "metadata": {},
   "source": [
    "### Remove quasi-constant features"
   ]
  },
  {
   "cell_type": "code",
   "execution_count": null,
   "metadata": {},
   "outputs": [],
   "source": [
    "# remove quasi-constant features\n",
    "sel = VarianceThreshold(\n",
    "    threshold=0.1)  # 0.1 indicates 99% of observations approximately\n",
    " \n",
    "sel.fit(X_train)  # fit finds the features with low variance\n",
    " \n",
    "sum(sel.get_support()) # how many not quasi-constant?"
   ]
  },
  {
   "cell_type": "code",
   "execution_count": null,
   "metadata": {},
   "outputs": [],
   "source": [
    "features_to_keep = X_train.columns[sel.get_support()]"
   ]
  },
  {
   "cell_type": "code",
   "execution_count": null,
   "metadata": {},
   "outputs": [],
   "source": [
    " #we can then remove the features like this\n",
    "X_train = sel.transform(X_train)\n",
    "X_test = sel.transform(X_test)\n",
    " \n",
    "X_train.shape, X_test.shape"
   ]
  },
  {
   "cell_type": "code",
   "execution_count": null,
   "metadata": {},
   "outputs": [],
   "source": [
    "#sklearn transformations lead to numpy arrays\n",
    "#here I transform the arrays back to dataframes\n",
    "# please be mindful of getting the columns assigned\n",
    "# correctly\n",
    " \n",
    "X_train= pd.DataFrame(X_train)\n",
    "X_train.columns = features_to_keep\n",
    " \n",
    "X_test= pd.DataFrame(X_test)\n",
    "X_test.columns = features_to_keep"
   ]
  },
  {
   "cell_type": "markdown",
   "metadata": {},
   "source": [
    "### Remove duplicated features\n"
   ]
  },
  {
   "cell_type": "code",
   "execution_count": null,
   "metadata": {},
   "outputs": [],
   "source": [
    "# check for duplicated features in the training set\n",
    "duplicated_feat = []\n",
    "for i in range(0, len(X_train.columns)):\n",
    "    if i % 10 == 0:  # this helps me understand how the loop is going\n",
    "        print(i)\n",
    " \n",
    "    col_1 = X_train.columns[i]\n",
    " \n",
    "    for col_2 in X_train.columns[i + 1:]:\n",
    "        if X_train[col_1].equals(X_train[col_2]):\n",
    "            duplicated_feat.append(col_2)\n",
    "            \n",
    "len(duplicated_feat)#no of duplicate features?"
   ]
  },
  {
   "cell_type": "code",
   "execution_count": null,
   "metadata": {},
   "outputs": [],
   "source": [
    "# remove duplicated features\n",
    "X_train.drop(labels=duplicated_feat, axis=1, inplace=True)\n",
    "X_test.drop(labels=duplicated_feat, axis=1, inplace=True)\n",
    " \n",
    "X_train.shape, X_test.shape"
   ]
  },
  {
   "cell_type": "code",
   "execution_count": null,
   "metadata": {},
   "outputs": [],
   "source": [
    "# I keep a copy of the dataset except constant and duplicated variables\n",
    "# to measure the performance of machine learning models\n",
    "# at the end of the notebook\n",
    " \n",
    "X_train_basic_filter = X_train.copy()\n",
    "X_test_basic_filter = X_test.copy()"
   ]
  },
  {
   "cell_type": "markdown",
   "metadata": {},
   "source": [
    "## Remove correlated features"
   ]
  },
  {
   "cell_type": "code",
   "execution_count": null,
   "metadata": {},
   "outputs": [],
   "source": [
    "# find and remove correlated features\n",
    "def correlation(dataset, threshold):\n",
    "    col_corr = set()  # Set of all the names of correlated columns\n",
    "    corr_matrix = dataset.corr()\n",
    "    for i in range(len(corr_matrix.columns)):\n",
    "        for j in range(i):\n",
    "            if abs(corr_matrix.iloc[i, j]) > threshold: # we are interested in absolute coeff value\n",
    "                colname = corr_matrix.columns[i]  # getting the name of column\n",
    "                col_corr.add(colname)\n",
    "    return col_corr\n",
    " \n",
    "corr_features = correlation(X_train, 0.85)\n",
    "print('correlated features: ', len(set(corr_features)) )"
   ]
  },
  {
   "cell_type": "code",
   "execution_count": null,
   "metadata": {},
   "outputs": [],
   "source": [
    "# removed correlated  features\n",
    "X_train.drop(labels=corr_features, axis=1, inplace=True)\n",
    "X_test.drop(labels=corr_features, axis=1, inplace=True)\n",
    " \n",
    "X_train.shape, X_test.shape"
   ]
  },
  {
   "cell_type": "code",
   "execution_count": null,
   "metadata": {},
   "outputs": [],
   "source": [
    "# keep a copy of the dataset at  this stage\n",
    "X_train_corr = X_train.copy()\n",
    "X_test_corr = X_test.copy()"
   ]
  },
  {
   "cell_type": "markdown",
   "metadata": {},
   "source": [
    "## Remove features using univariate ROC-AUC\n"
   ]
  },
  {
   "cell_type": "code",
   "execution_count": null,
   "metadata": {},
   "outputs": [],
   "source": [
    "# find important features using univariate roc-auc\n",
    " \n",
    "# loop to build a tree, make predictions and get the roc-auc\n",
    "# for each feature of the train set\n",
    " \n",
    "roc_values = []\n",
    "for feature in X_train.columns:\n",
    "    clf = DecisionTreeClassifier()\n",
    "    clf.fit(X_train[feature].fillna(0).to_frame(), y_train)\n",
    "    y_scored = clf.predict_proba(X_test[feature].fillna(0).to_frame())\n",
    "    roc_values.append(roc_auc_score(y_test, y_scored[:, 1]))"
   ]
  },
  {
   "cell_type": "code",
   "execution_count": null,
   "metadata": {},
   "outputs": [],
   "source": [
    "# let's add the variable names and order it for clearer visualisation\n",
    "roc_values = pd.Series(roc_values)\n",
    "roc_values.index = X_train.columns\n",
    "roc_values.sort_values(ascending=False).plot.bar(figsize=(20, 8))"
   ]
  },
  {
   "cell_type": "code",
   "execution_count": null,
   "metadata": {},
   "outputs": [],
   "source": [
    "# by removing features with univariate roc_auc == 0.5\n",
    "# we remove another 30 features\n",
    " \n",
    "selected_feat = roc_values[roc_values>0.5]\n",
    "len(selected_feat), X_train.shape[1]"
   ]
  },
  {
   "cell_type": "markdown",
   "metadata": {},
   "source": [
    "### select feature based on random forest feature importance "
   ]
  },
  {
   "cell_type": "code",
   "execution_count": null,
   "metadata": {},
   "outputs": [],
   "source": [
    "# select features using the impotance derived from\n",
    "# random forests\n",
    "#sel_ = SelectFromModel(RandomForestClassifier(n_estimators=200))\n",
    "#sel_.fit(X_train, y_train)\n",
    " \n",
    "# remove features with zero coefficient from dataset\n",
    "# and parse again as dataframe (output of sklearn is\n",
    "# numpy array)\n",
    "#X_train_rf = pd.DataFrame(sel_.transform(X_train))\n",
    "#X_test_rf = pd.DataFrame(sel_.transform(X_test))\n",
    " \n",
    "# add the columns name\n",
    "#X_train_rf.columns = X_train.columns[(sel_.get_support())]\n",
    "#X_test_rf.columns = X_train.columns[(sel_.get_support())]"
   ]
  },
  {
   "cell_type": "code",
   "execution_count": null,
   "metadata": {},
   "outputs": [],
   "source": [
    "#X_train_rf.columns"
   ]
  },
  {
   "cell_type": "markdown",
   "metadata": {},
   "source": [
    "###### using random forest feature importance i got these set of features \n",
    "\n",
    "Index(['Attr6', 'Attr9', 'Attr27', 'Attr29', 'Attr41'], dtype='object')"
   ]
  },
  {
   "cell_type": "markdown",
   "metadata": {},
   "source": [
    "###  feature selection using xgboosting feature importance "
   ]
  },
  {
   "cell_type": "code",
   "execution_count": null,
   "metadata": {},
   "outputs": [],
   "source": [
    "# select features using the impotance derived from\n",
    "# xgb0sting algo \n",
    "#sel_ = SelectFromModel(xgb.XGBClassifier(n_estimators=200))\n",
    "#sel_.fit(X_train, y_train)\n",
    " \n",
    "# remove features with zero coefficient from dataset\n",
    "# and parse again as dataframe (output of sklearn is\n",
    "# numpy array)\n",
    "#X_train_rf = pd.DataFrame(sel_.transform(X_train))\n",
    "#X_test_rf = pd.DataFrame(sel_.transform(X_test))\n",
    " \n",
    "# add the columns name\n",
    "#X_train_rf.columns = X_train.columns[(sel_.get_support())]\n",
    "#X_test_rf.columns = X_train.columns[(sel_.get_support())]"
   ]
  },
  {
   "cell_type": "code",
   "execution_count": null,
   "metadata": {},
   "outputs": [],
   "source": [
    "#X_train_rf.columns"
   ]
  },
  {
   "cell_type": "markdown",
   "metadata": {},
   "source": [
    "###### using xgboosting feature importance i got these set of features \n",
    "\n",
    "Index(['Attr2', 'Attr6', 'Attr7', 'Attr9', 'Attr12', 'Attr15', 'Attr21',\n",
    "       'Attr25', 'Attr27', 'Attr29', 'Attr41', 'Attr45'],\n",
    "      dtype='object')"
   ]
  },
  {
   "cell_type": "markdown",
   "metadata": {},
   "source": [
    "###### but i have analysed explicitly set of features which are giving me best confusion matrix result are \n",
    "\n",
    "[['Attr5', 'Attr11', 'Attr21', 'Attr22', 'Attr24', 'Attr27', 'Attr33',\n",
    "       'Attr40', 'Attr46', 'Attr55']]                                         \n"
   ]
  },
  {
   "cell_type": "markdown",
   "metadata": {},
   "source": [
    "###### above feature set i have gone through some feature engineering steps \n",
    "###### missing imputation------>gaussian transformation ----->decision tree descritisation------>scaling --->feature selection \n",
    "[['Attr5', 'Attr11', 'Attr21', 'Attr22', 'Attr24', 'Attr27', 'Attr33', 'Attr40', 'Attr46', 'Attr55']] i got these features \n",
    "\n",
    "###### but important analysis i found that feature set using these above feature engineering steps giving best result on original data aftter imputation only "
   ]
  },
  {
   "cell_type": "code",
   "execution_count": null,
   "metadata": {},
   "outputs": [],
   "source": []
  },
  {
   "cell_type": "code",
   "execution_count": null,
   "metadata": {},
   "outputs": [],
   "source": []
  },
  {
   "cell_type": "code",
   "execution_count": null,
   "metadata": {},
   "outputs": [],
   "source": [
    "data=pd.read_csv(r\"C:\\Users\\sak\\Documents\\current_hackathon\\bank_ruptcy\\Bankruptcy dataset\\1year.csv\")"
   ]
  },
  {
   "cell_type": "code",
   "execution_count": null,
   "metadata": {},
   "outputs": [],
   "source": [
    "year_1=data[['Attr5', 'Attr11', 'Attr21', 'Attr22', 'Attr24', 'Attr27', 'Attr33',\n",
    "       'Attr40', 'Attr46', 'Attr55','class']] "
   ]
  },
  {
   "cell_type": "code",
   "execution_count": null,
   "metadata": {},
   "outputs": [],
   "source": [
    "k1=year_1.columns.tolist()"
   ]
  },
  {
   "cell_type": "code",
   "execution_count": null,
   "metadata": {},
   "outputs": [],
   "source": [
    "#replacing each ? to NAN\n",
    "for i in k1:\n",
    "    year_1[i] = year_1[i].replace('?' , np.nan)"
   ]
  },
  {
   "cell_type": "code",
   "execution_count": null,
   "metadata": {},
   "outputs": [],
   "source": [
    "#converting object data into numericals(float64)\n",
    "year_1=year_1.apply(lambda col:pd.to_numeric(col,errors='coerce'))"
   ]
  },
  {
   "cell_type": "code",
   "execution_count": null,
   "metadata": {},
   "outputs": [],
   "source": [
    "# Let's divide into train and test set\n",
    "\n",
    "X_train, X_test, y_train, y_test = train_test_split(\n",
    "    year_1.drop(labels='class', axis=1),  # predictors\n",
    "    year_1['class'],  # target\n",
    "    test_size=0.3,\n",
    "    random_state=0)\n",
    "\n",
    "X_train.shape, X_test.shape"
   ]
  },
  {
   "cell_type": "code",
   "execution_count": null,
   "metadata": {},
   "outputs": [],
   "source": [
    "# replacing null with mean imputer \n",
    "mean_imputer= mdi.MeanMedianImputer(imputation_method='mean', variables = year_1.drop(labels='class',axis=1).columns.tolist())"
   ]
  },
  {
   "cell_type": "code",
   "execution_count": null,
   "metadata": {},
   "outputs": [],
   "source": [
    "mean_imputer.fit(X_train)"
   ]
  },
  {
   "cell_type": "code",
   "execution_count": null,
   "metadata": {},
   "outputs": [],
   "source": [
    "# let's transform the data \n",
    "X_train_imp= mean_imputer.transform(X_train)\n",
    "X_test_imp= mean_imputer.transform(X_test)"
   ]
  },
  {
   "cell_type": "code",
   "execution_count": null,
   "metadata": {},
   "outputs": [],
   "source": [
    "X_train_no_miss=X_train_imp.copy()\n",
    "X_test_no_miss=X_test_imp.copy()\n",
    "y_train_no_miss=y_train.copy()\n",
    "y_test_no_miss=y_test.copy()"
   ]
  },
  {
   "cell_type": "code",
   "execution_count": null,
   "metadata": {},
   "outputs": [],
   "source": [
    "#standardisation: with the StandardScaler from sklearn\n",
    "\n",
    "# set up the scaler\n",
    "scaler = StandardScaler()\n",
    "# fit the scaler to the train set, it will learn the parameters\n",
    "scaler.fit(X_train_no_miss)"
   ]
  },
  {
   "cell_type": "code",
   "execution_count": null,
   "metadata": {},
   "outputs": [],
   "source": [
    "X_train_no_miss_scaled = scaler.transform(X_train_no_miss)\n",
    "X_test_no_miss_scaled = scaler.transform(X_test_no_miss)"
   ]
  },
  {
   "cell_type": "code",
   "execution_count": null,
   "metadata": {},
   "outputs": [],
   "source": []
  },
  {
   "cell_type": "markdown",
   "metadata": {},
   "source": [
    "##### over sampling using smote "
   ]
  },
  {
   "cell_type": "code",
   "execution_count": null,
   "metadata": {},
   "outputs": [],
   "source": [
    "from imblearn.over_sampling import SMOTE\n",
    "sm = SMOTE(random_state = 2) \n",
    "X_train_res, y_train_res = sm.fit_sample(X_train_no_miss_scaled, y_train_no_miss.ravel())"
   ]
  },
  {
   "cell_type": "markdown",
   "metadata": {},
   "source": [
    "## ------------------------------------------model analysis ----------------------------------------------------"
   ]
  },
  {
   "cell_type": "code",
   "execution_count": null,
   "metadata": {},
   "outputs": [],
   "source": [
    "X_tr=X_train_res.copy()\n",
    "X_ts=X_test_no_miss_scaled.copy()\n",
    "y_tr=y_train_res.copy()\n",
    "y_ts=y_test_no_miss.copy()"
   ]
  },
  {
   "cell_type": "code",
   "execution_count": null,
   "metadata": {},
   "outputs": [],
   "source": [
    "names = [\"Logistic Regression\", \"Nearest Neighbors\", \"Naive Bayes\", \"Linear SVM\", \"RBF SVM\",\n",
    "          \"Decision Tree\", \"Random Forest\", \"AdaBoost\", \"Gradient Boosting\", \n",
    "         \"LDA\", \"QDA\", \"Neural Net\", \"LightGBM\", \"XGBoost\" ]"
   ]
  },
  {
   "cell_type": "code",
   "execution_count": null,
   "metadata": {},
   "outputs": [],
   "source": [
    "classifiers = [\n",
    "    LogisticRegression(),\n",
    "    KNeighborsClassifier(7),\n",
    "    GaussianNB(),\n",
    "    SVC(kernel=\"linear\", C=0.025),\n",
    "    SVC(kernel = \"rbf\", gamma=2, C=1),\n",
    "    #GaussianProcessClassifier(1.0 * RBF(1.0)),\n",
    "    DecisionTreeClassifier(max_depth=5),\n",
    "    RandomForestClassifier(max_depth=5, n_estimators=10, max_features=1),\n",
    "    AdaBoostClassifier(),\n",
    "    GradientBoostingClassifier(),\n",
    "    LinearDiscriminantAnalysis(),\n",
    "    QuadraticDiscriminantAnalysis(),\n",
    "    MLPClassifier(alpha=1, max_iter=1000),\n",
    "    lgb.LGBMClassifier(),    \n",
    "    xgb.XGBClassifier()\n",
    "   ]"
   ]
  },
  {
   "cell_type": "code",
   "execution_count": null,
   "metadata": {},
   "outputs": [],
   "source": [
    "accuracy_scores = []\n",
    "# iterate over classifiers and predict accuracy\n",
    "for name, clf in zip(names, classifiers):\n",
    "    clf.fit(X_tr, y_tr)\n",
    "    score = clf.score(X_ts, y_ts)\n",
    "    score = round(score, 4)\n",
    "    accuracy_scores.append(score)\n",
    "    print(name ,' : ' , score )\n"
   ]
  },
  {
   "cell_type": "code",
   "execution_count": null,
   "metadata": {},
   "outputs": [],
   "source": [
    "knn_clf = KNeighborsClassifier(11)\n",
    "\n",
    "knn_clf.fit(X_tr, y_tr)\n",
    "#predict train set \n",
    "print('train set')\n",
    "y1_pred = knn_clf.predict(X_tr)\n",
    "# print the accuracy\n",
    "print('Gradient boosting Classifier model accuracy score for train set : {0:0.4f}'. format(accuracy_score(y_tr, y1_pred)))\n",
    "\n",
    "#-------------------------------------------------------------------------------------------------------------------------------\n",
    "\n",
    "#predict test set\n",
    "print('test set')\n",
    "y2_pred = knn_clf.predict(X_ts)\n",
    "# print the accuracy\n",
    "print('Gradient boosting Classifier model accuracy score for test set : {0:0.4f}\\n\\n'. format(accuracy_score(y_ts, y2_pred)))\n",
    "\n",
    "#-------------------------------------------------confusion matrix-----------------------------------------------------------\n",
    "\n",
    "# print confusion-matrix\n",
    "\n",
    "cm = confusion_matrix(y_ts, y2_pred)\n",
    "\n",
    "print('Confusion matrix\\n\\n', cm)\n",
    "\n",
    "print('\\nTrue Positives(TP) = ', cm[0,0])\n",
    "\n",
    "print('\\nTrue Negatives(TN) = ', cm[1,1])\n",
    "\n",
    "print('\\nFalse Positives(FP){type 1 error} = ', cm[0,1])\n",
    "\n",
    "print('\\nFalse Negatives(FN){type 2 error} = ', cm[1,0])\n",
    "print('\\n\\n')\n",
    "\n",
    "#-------------------------------visualization of confusion matrix -----------------------------------------------------------\n",
    "\n",
    "# visualize confusion matrix with seaborn heatmap\n",
    "\n",
    "cm_matrix = pd.DataFrame(data=cm, columns=['Actual Positive:0', 'Actual Negative:1'], \n",
    "                                 index=['Predict Positive:0', 'Predict Negative:1'])\n",
    "\n",
    "sns.heatmap(cm_matrix, annot=True, fmt='d', cmap='YlGnBu')\n",
    "\n",
    "#----------------------------------classification report ----------------------------------------------------------------------\n",
    "print('classification report')\n",
    "print(classification_report(y_ts, y2_pred))\n",
    "print('\\n\\n')\n"
   ]
  },
  {
   "cell_type": "code",
   "execution_count": null,
   "metadata": {},
   "outputs": [],
   "source": [
    "svl_clf = SVC(kernel=\"linear\", C=0.025)\n",
    "\n",
    "svl_clf.fit(X_tr, y_tr)\n",
    "#predict train set \n",
    "print('train set')\n",
    "y1_pred = svl_clf.predict(X_tr)\n",
    "# print the accuracy\n",
    "print('Gradient boosting Classifier model accuracy score for train set : {0:0.4f}'. format(accuracy_score(y_tr, y1_pred)))\n",
    "\n",
    "#-------------------------------------------------------------------------------------------------------------------------------\n",
    "\n",
    "#predict test set\n",
    "print('test set')\n",
    "y2_pred = svl_clf.predict(X_ts)\n",
    "# print the accuracy\n",
    "print('Gradient boosting Classifier model accuracy score for test set : {0:0.4f}\\n\\n'. format(accuracy_score(y_ts, y2_pred)))\n",
    "\n",
    "#-------------------------------------------------confusion matrix-----------------------------------------------------------\n",
    "\n",
    "# print confusion-matrix\n",
    "\n",
    "cm = confusion_matrix(y_ts, y2_pred)\n",
    "\n",
    "print('Confusion matrix\\n\\n', cm)\n",
    "\n",
    "print('\\nTrue Positives(TP) = ', cm[0,0])\n",
    "\n",
    "print('\\nTrue Negatives(TN) = ', cm[1,1])\n",
    "\n",
    "print('\\nFalse Positives(FP){type 1 error} = ', cm[0,1])\n",
    "\n",
    "print('\\nFalse Negatives(FN){type 2 error} = ', cm[1,0])\n",
    "print('\\n\\n')\n",
    "\n",
    "#-------------------------------visualization of confusion matrix -----------------------------------------------------------\n",
    "\n",
    "# visualize confusion matrix with seaborn heatmap\n",
    "\n",
    "cm_matrix = pd.DataFrame(data=cm, columns=['Actual Positive:0', 'Actual Negative:1'], \n",
    "                                 index=['Predict Positive:0', 'Predict Negative:1'])\n",
    "\n",
    "sns.heatmap(cm_matrix, annot=True, fmt='d', cmap='YlGnBu')\n",
    "\n",
    "#----------------------------------classification report ----------------------------------------------------------------------\n",
    "print('classification report')\n",
    "print(classification_report(y_ts, y2_pred))\n",
    "print('\\n\\n')\n"
   ]
  },
  {
   "cell_type": "code",
   "execution_count": null,
   "metadata": {},
   "outputs": [],
   "source": [
    "xgb_clf = xgb.XGBClassifier()\n",
    "\n",
    "xgb_clf.fit(X_tr, y_tr)\n",
    "#predict train set \n",
    "print('train set')\n",
    "y1_pred = xgb_clf.predict(X_tr)\n",
    "# print the accuracy\n",
    "print('Gradient boosting Classifier model accuracy score for train set : {0:0.4f}'. format(accuracy_score(y_tr, y1_pred)))\n",
    "\n",
    "#-------------------------------------------------------------------------------------------------------------------------------\n",
    "\n",
    "#predict test set\n",
    "print('test set')\n",
    "y2_pred = xgb_clf.predict(X_ts)\n",
    "# print the accuracy\n",
    "print('Gradient boosting Classifier model accuracy score for test set : {0:0.4f}\\n\\n'. format(accuracy_score(y_ts, y2_pred)))\n",
    "\n",
    "#-------------------------------------------------confusion matrix-----------------------------------------------------------\n",
    "\n",
    "# print confusion-matrix\n",
    "\n",
    "cm = confusion_matrix(y_ts, y2_pred)\n",
    "\n",
    "print('Confusion matrix\\n\\n', cm)\n",
    "\n",
    "print('\\nTrue Positives(TP) = ', cm[0,0])\n",
    "\n",
    "print('\\nTrue Negatives(TN) = ', cm[1,1])\n",
    "\n",
    "print('\\nFalse Positives(FP){type 1 error} = ', cm[0,1])\n",
    "\n",
    "print('\\nFalse Negatives(FN){type 2 error} = ', cm[1,0])\n",
    "print('\\n\\n')\n",
    "\n",
    "#-------------------------------visualization of confusion matrix -----------------------------------------------------------\n",
    "\n",
    "# visualize confusion matrix with seaborn heatmap\n",
    "\n",
    "cm_matrix = pd.DataFrame(data=cm, columns=['Actual Positive:0', 'Actual Negative:1'], \n",
    "                                 index=['Predict Positive:0', 'Predict Negative:1'])\n",
    "\n",
    "sns.heatmap(cm_matrix, annot=True, fmt='d', cmap='YlGnBu')\n",
    "\n",
    "#----------------------------------classification report ----------------------------------------------------------------------\n",
    "print('classification report')\n",
    "print(classification_report(y_ts, y2_pred))\n",
    "print('\\n\\n')\n"
   ]
  },
  {
   "cell_type": "code",
   "execution_count": null,
   "metadata": {},
   "outputs": [],
   "source": [
    "lgb_clf = lgb.LGBMClassifier()\n",
    "\n",
    "lgb_clf.fit(X_tr, y_tr)\n",
    "#predict train set \n",
    "print('train set')\n",
    "y1_pred = lgb_clf.predict(X_tr)\n",
    "# print the accuracy\n",
    "print('Gradient boosting Classifier model accuracy score for train set : {0:0.4f}'. format(accuracy_score(y_tr, y1_pred)))\n",
    "\n",
    "#-------------------------------------------------------------------------------------------------------------------------------\n",
    "\n",
    "#predict test set\n",
    "print('test set')\n",
    "y2_pred = lgb_clf.predict(X_ts)\n",
    "# print the accuracy\n",
    "print('Gradient boosting Classifier model accuracy score for test set : {0:0.4f}\\n\\n'. format(accuracy_score(y_ts, y2_pred)))\n",
    "\n",
    "#-------------------------------------------------confusion matrix-----------------------------------------------------------\n",
    "\n",
    "# print confusion-matrix\n",
    "\n",
    "cm = confusion_matrix(y_ts, y2_pred)\n",
    "\n",
    "print('Confusion matrix\\n\\n', cm)\n",
    "\n",
    "print('\\nTrue Positives(TP) = ', cm[0,0])\n",
    "\n",
    "print('\\nTrue Negatives(TN) = ', cm[1,1])\n",
    "\n",
    "print('\\nFalse Positives(FP){type 1 error} = ', cm[0,1])\n",
    "\n",
    "print('\\nFalse Negatives(FN){type 2 error} = ', cm[1,0])\n",
    "print('\\n\\n')\n",
    "\n",
    "#-------------------------------visualization of confusion matrix -----------------------------------------------------------\n",
    "\n",
    "# visualize confusion matrix with seaborn heatmap\n",
    "\n",
    "cm_matrix = pd.DataFrame(data=cm, columns=['Actual Positive:0', 'Actual Negative:1'], \n",
    "                                 index=['Predict Positive:0', 'Predict Negative:1'])\n",
    "\n",
    "sns.heatmap(cm_matrix, annot=True, fmt='d', cmap='YlGnBu')\n",
    "\n",
    "#----------------------------------classification report ----------------------------------------------------------------------\n",
    "print('classification report')\n",
    "print(classification_report(y_ts, y2_pred))\n",
    "print('\\n\\n')\n"
   ]
  },
  {
   "cell_type": "markdown",
   "metadata": {},
   "source": [
    "### i  m performing oversampling on original data without scaling becoz  w/o scaling is giving better result  "
   ]
  },
  {
   "cell_type": "code",
   "execution_count": null,
   "metadata": {},
   "outputs": [],
   "source": [
    "from imblearn.over_sampling import SMOTE\n",
    "sm = SMOTE(random_state = 2) \n",
    "X_train_res, y_train_res = sm.fit_sample(X_train_no_miss, y_train_no_miss.ravel())"
   ]
  },
  {
   "cell_type": "code",
   "execution_count": null,
   "metadata": {},
   "outputs": [],
   "source": [
    "X_tr=X_train_res.copy()\n",
    "X_ts=X_test_no_miss.copy()\n",
    "y_tr=y_train_res.copy()\n",
    "y_ts=y_test_no_miss.copy()"
   ]
  },
  {
   "cell_type": "code",
   "execution_count": null,
   "metadata": {},
   "outputs": [],
   "source": [
    "xgb_clf = xgb.XGBClassifier()\n",
    "\n",
    "xgb_clf.fit(X_tr, y_tr)\n",
    "#predict train set \n",
    "print('train set')\n",
    "y1_pred = xgb_clf.predict(X_tr)\n",
    "# print the accuracy\n",
    "print('xgboosting Classifier model accuracy score for train set : {0:0.4f}'. format(accuracy_score(y_tr, y1_pred)))\n",
    "\n",
    "#-------------------------------------------------------------------------------------------------------------------------------\n",
    "\n",
    "#predict test set\n",
    "print('test set')\n",
    "y2_pred = xgb_clf.predict(X_ts)\n",
    "# print the accuracy\n",
    "print('xgBoosting Classifier model accuracy score for test set : {0:0.4f}\\n\\n'. format(accuracy_score(y_ts, y2_pred)))\n",
    "\n",
    "#-------------------------------------------------confusion matrix-----------------------------------------------------------\n",
    "\n",
    "# print confusion-matrix\n",
    "\n",
    "cm = confusion_matrix(y_ts, y2_pred)\n",
    "\n",
    "print('Confusion matrix\\n\\n', cm)\n",
    "\n",
    "print('\\nTrue Positives(TP) = ', cm[0,0])\n",
    "\n",
    "print('\\nTrue Negatives(TN) = ', cm[1,1])\n",
    "\n",
    "print('\\nFalse Positives(FP){type 1 error} = ', cm[0,1])\n",
    "\n",
    "print('\\nFalse Negatives(FN){type 2 error} = ', cm[1,0])\n",
    "print('\\n\\n')\n",
    "\n",
    "#-------------------------------visualization of confusion matrix -----------------------------------------------------------\n",
    "\n",
    "# visualize confusion matrix with seaborn heatmap\n",
    "\n",
    "cm_matrix = pd.DataFrame(data=cm, columns=['Actual Positive:0', 'Actual Negative:1'], \n",
    "                                 index=['Predict Positive:0', 'Predict Negative:1'])\n",
    "\n",
    "sns.heatmap(cm_matrix, annot=True, fmt='d', cmap='YlGnBu')\n",
    "\n",
    "#----------------------------------classification report ----------------------------------------------------------------------\n",
    "print('classification report')\n",
    "print(classification_report(y_ts, y2_pred))\n",
    "print('\\n\\n')\n"
   ]
  },
  {
   "cell_type": "code",
   "execution_count": null,
   "metadata": {},
   "outputs": [],
   "source": [
    "lgb_clf = lgb.LGBMClassifier()\n",
    "\n",
    "lgb_clf.fit(X_tr, y_tr)\n",
    "#predict train set \n",
    "print('train set')\n",
    "y1_pred = lgb_clf.predict(X_tr)\n",
    "# print the accuracy\n",
    "print('light gradient boosting Classifier model accuracy score for train set : {0:0.4f}'. format(accuracy_score(y_tr, y1_pred)))\n",
    "\n",
    "#-------------------------------------------------------------------------------------------------------------------------------\n",
    "\n",
    "#predict test set\n",
    "print('test set')\n",
    "y2_pred = lgb_clf.predict(X_ts)\n",
    "# print the accuracy\n",
    "print('light gradiant boosting Classifier model accuracy score for test set : {0:0.4f}\\n\\n'. format(accuracy_score(y_ts, y2_pred)))\n",
    "\n",
    "#-------------------------------------------------confusion matrix-----------------------------------------------------------\n",
    "\n",
    "# print confusion-matrix\n",
    "\n",
    "cm = confusion_matrix(y_ts, y2_pred)\n",
    "\n",
    "print('Confusion matrix\\n\\n', cm)\n",
    "\n",
    "print('\\nTrue Positives(TP) = ', cm[0,0])\n",
    "\n",
    "print('\\nTrue Negatives(TN) = ', cm[1,1])\n",
    "\n",
    "print('\\nFalse Positives(FP){type 1 error} = ', cm[0,1])\n",
    "\n",
    "print('\\nFalse Negatives(FN){type 2 error} = ', cm[1,0])\n",
    "print('\\n\\n')\n",
    "\n",
    "#-------------------------------visualization of confusion matrix -----------------------------------------------------------\n",
    "\n",
    "# visualize confusion matrix with seaborn heatmap\n",
    "\n",
    "cm_matrix = pd.DataFrame(data=cm, columns=['Actual Positive:0', 'Actual Negative:1'], \n",
    "                                 index=['Predict Positive:0', 'Predict Negative:1'])\n",
    "\n",
    "sns.heatmap(cm_matrix, annot=True, fmt='d', cmap='YlGnBu')\n",
    "\n",
    "#----------------------------------classification report ----------------------------------------------------------------------\n",
    "print('classification report')\n",
    "print(classification_report(y_ts, y2_pred))\n",
    "print('\\n\\n')\n"
   ]
  },
  {
   "cell_type": "markdown",
   "metadata": {},
   "source": [
    "##### conclusion:- till now best result i found with XGBoosting algorithm and i will deploye first year data model based on the XGboosting algo only "
   ]
  },
  {
   "cell_type": "code",
   "execution_count": 1,
   "metadata": {},
   "outputs": [
    {
     "data": {
      "text/plain": [
       "<function dir>"
      ]
     },
     "execution_count": 1,
     "metadata": {},
     "output_type": "execute_result"
    }
   ],
   "source": [
    "dir"
   ]
  },
  {
   "cell_type": "code",
   "execution_count": 4,
   "metadata": {},
   "outputs": [],
   "source": [
    "import pandas as pd\n",
    "test= pd.read_csv(\"test.csv\")"
   ]
  },
  {
   "cell_type": "code",
   "execution_count": 6,
   "metadata": {},
   "outputs": [
    {
     "data": {
      "text/html": [
       "<div>\n",
       "<style scoped>\n",
       "    .dataframe tbody tr th:only-of-type {\n",
       "        vertical-align: middle;\n",
       "    }\n",
       "\n",
       "    .dataframe tbody tr th {\n",
       "        vertical-align: top;\n",
       "    }\n",
       "\n",
       "    .dataframe thead th {\n",
       "        text-align: right;\n",
       "    }\n",
       "</style>\n",
       "<table border=\"1\" class=\"dataframe\">\n",
       "  <thead>\n",
       "    <tr style=\"text-align: right;\">\n",
       "      <th></th>\n",
       "      <th>,dfdf,dfd</th>\n",
       "      <th>,sdsf,sdfs</th>\n",
       "      <th>a</th>\n",
       "      <th>b</th>\n",
       "    </tr>\n",
       "  </thead>\n",
       "  <tbody>\n",
       "    <tr>\n",
       "      <th>0</th>\n",
       "      <td>43</td>\n",
       "      <td>434</td>\n",
       "      <td>43</td>\n",
       "      <td>34</td>\n",
       "    </tr>\n",
       "    <tr>\n",
       "      <th>1</th>\n",
       "      <td>34</td>\n",
       "      <td>34</td>\n",
       "      <td>34</td>\n",
       "      <td>34</td>\n",
       "    </tr>\n",
       "  </tbody>\n",
       "</table>\n",
       "</div>"
      ],
      "text/plain": [
       "   ,dfdf,dfd  ,sdsf,sdfs   a   b\n",
       "0         43         434  43  34\n",
       "1         34          34  34  34"
      ]
     },
     "execution_count": 6,
     "metadata": {},
     "output_type": "execute_result"
    }
   ],
   "source": [
    "test.head()"
   ]
  },
  {
   "cell_type": "code",
   "execution_count": 7,
   "metadata": {},
   "outputs": [],
   "source": [
    "test.to_csv(\"test.csv\")"
   ]
  },
  {
   "cell_type": "code",
   "execution_count": null,
   "metadata": {},
   "outputs": [],
   "source": []
  }
 ],
 "metadata": {
  "kernelspec": {
   "display_name": "Python 3",
   "language": "python",
   "name": "python3"
  },
  "language_info": {
   "codemirror_mode": {
    "name": "ipython",
    "version": 3
   },
   "file_extension": ".py",
   "mimetype": "text/x-python",
   "name": "python",
   "nbconvert_exporter": "python",
   "pygments_lexer": "ipython3",
   "version": "3.7.6"
  }
 },
 "nbformat": 4,
 "nbformat_minor": 4
}
